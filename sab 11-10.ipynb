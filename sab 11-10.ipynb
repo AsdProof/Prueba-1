{
 "cells": [
  {
   "cell_type": "code",
   "execution_count": 1,
   "id": "68add33e",
   "metadata": {},
   "outputs": [
    {
     "name": "stdout",
     "output_type": "stream",
     "text": [
      "[[0.20651644 0.20828942 0.32983286 0.47009212 0.99925452]\n",
      " [0.91788147 0.38779021 0.38169375 0.23824321 0.42803407]\n",
      " [0.32289123 0.91996518 0.41650549 0.2114082  0.437453  ]\n",
      " [0.23166264 0.67451137 0.94706563 0.91708445 0.50426945]]\n"
     ]
    }
   ],
   "source": [
    "import numpy as np\n",
    "A=np.random.rand(4,5)\n",
    "print(A)"
   ]
  },
  {
   "cell_type": "code",
   "execution_count": 3,
   "id": "2d37c4c5",
   "metadata": {},
   "outputs": [],
   "source": [
    "def intercambiFilas(A,fil_i,fil_j):\n",
    "    A[[fil_i,fil_j],:]=A[[fil_j,fil_i],:]"
   ]
  },
  {
   "cell_type": "code",
   "execution_count": 10,
   "id": "8947c99a",
   "metadata": {},
   "outputs": [
    {
     "name": "stdout",
     "output_type": "stream",
     "text": [
      "[[0.800039   0.77990042 0.52163512 0.17430636 0.78862541]\n",
      " [0.52273723 0.32687027 0.38070115 0.40532097 0.45421427]\n",
      " [0.4937363  0.72433725 0.33996661 0.84454623 0.6171524 ]\n",
      " [0.65521163 0.37204252 0.79196566 0.58098129 0.88355901]]\n",
      "None\n"
     ]
    }
   ],
   "source": [
    "B=intercambiFilas(A,1,3)\n",
    "print(A)\n",
    "print(B)"
   ]
  },
  {
   "cell_type": "code",
   "execution_count": 11,
   "id": "5e474118",
   "metadata": {},
   "outputs": [],
   "source": [
    "def operacionFila(A,fil_m,fil_piv,factor):\n",
    "    A[fil_m,:]=A[fil_m,:]-factor*A[fil_piv,:]"
   ]
  },
  {
   "cell_type": "code",
   "execution_count": 15,
   "id": "448e1ed1",
   "metadata": {},
   "outputs": [
    {
     "name": "stdout",
     "output_type": "stream",
     "text": [
      "[[ 0.800039    0.77990042  0.52163512  0.17430636  0.78862541]\n",
      " [ 1.07734076  1.23293056  0.6625691  -0.05670826  1.12303655]\n",
      " [ 0.4937363   0.72433725  0.33996661  0.84454623  0.6171524 ]\n",
      " [ 0.65521163  0.37204252  0.79196566  0.58098129  0.88355901]]\n"
     ]
    }
   ],
   "source": [
    "operacionFila(A,1,1,2)\n",
    "print(A)"
   ]
  },
  {
   "cell_type": "code",
   "execution_count": null,
   "id": "53b554ee",
   "metadata": {},
   "outputs": [],
   "source": []
  }
 ],
 "metadata": {
  "kernelspec": {
   "display_name": "Python 3",
   "language": "python",
   "name": "python3"
  },
  "language_info": {
   "codemirror_mode": {
    "name": "ipython",
    "version": 3
   },
   "file_extension": ".py",
   "mimetype": "text/x-python",
   "name": "python",
   "nbconvert_exporter": "python",
   "pygments_lexer": "ipython3",
   "version": "3.13.7"
  }
 },
 "nbformat": 4,
 "nbformat_minor": 5
}
