{
 "cells": [
  {
   "cell_type": "code",
   "execution_count": 9,
   "id": "206563f9",
   "metadata": {},
   "outputs": [],
   "source": [
    "import numpy as np"
   ]
  },
  {
   "cell_type": "code",
   "execution_count": 10,
   "id": "45e828af",
   "metadata": {},
   "outputs": [],
   "source": [
    "def operacionFila(A,fil_m,fil_piv,factor):\n",
    "    A[fil_m,:]=A[fil_m,:]-factor*A[fil_piv,:]"
   ]
  },
  {
   "cell_type": "code",
   "execution_count": 11,
   "id": "956d6152",
   "metadata": {},
   "outputs": [],
   "source": [
    "def escalonaSimple(A):\n",
    "    nfil=A.shape[0]\n",
    "    ncol=A.shape[1]\n",
    "\n",
    "    for j in range(0,nfil):\n",
    "        for i in range(j+1,nfil):\n",
    "            factor=A[i,j]/A[j,j]\n",
    "            operacionFila(A,i,j,factor)"
   ]
  },
  {
   "cell_type": "code",
   "execution_count": 12,
   "id": "0a82fc5a",
   "metadata": {},
   "outputs": [
    {
     "name": "stdout",
     "output_type": "stream",
     "text": [
      "[[ 2  3 -1]\n",
      " [ 0  5  4]\n",
      " [ 0  0  6]]\n",
      "[-7  2 18]\n"
     ]
    }
   ],
   "source": [
    "A = np.array([[2,3,-1],\n",
    "              [0,5,4],\n",
    "              [0,0,6]])\n",
    "b = np.array([-7,2,18])\n",
    "\n",
    "#x = np.linalg.solve(A,b)\n",
    "#print(x)\n",
    "\n",
    "print(A)\n",
    "print(b)"
   ]
  },
  {
   "cell_type": "code",
   "execution_count": 13,
   "id": "0afc5496",
   "metadata": {},
   "outputs": [],
   "source": [
    "def sustRegresiva(A,b):     #Resuelve un sistema escalonado\n",
    "    N=b.shape[0]   #A y b deben ser array numpy bidimensional\n",
    "    x=np.zeros((N,1))\n",
    "    for i in range(N-1,-1,-1):\n",
    "        x[i,0]=(b[i,0]-np.dot(A[i,i+1:N],x[i+1:N,0]))/A[i,i]    \n",
    "    return x #arra bidimensional\n"
   ]
  },
  {
   "cell_type": "code",
   "execution_count": 14,
   "id": "9a632fa3",
   "metadata": {},
   "outputs": [],
   "source": [
    "def Gausselimsimple(A,b):\n",
    "    Ab=np.append(A,b,axis=1)\n",
    "    escalonaSimple(Ab)\n",
    "    A1=Ab[:,0:Ab.shape[1]-1].copy()\n",
    "    b1=Ab[:,Ab.shape[1]-1].copy()\n",
    "    b1=b1.reshape(b.shape[0],1)\n",
    "    x=sustRegresiva(A1,b1)\n",
    "    return x #array bidimensional"
   ]
  },
  {
   "cell_type": "code",
   "execution_count": null,
   "id": "2f51478b",
   "metadata": {},
   "outputs": [],
   "source": []
  },
  {
   "cell_type": "code",
   "execution_count": 15,
   "id": "ac3a133e",
   "metadata": {},
   "outputs": [
    {
     "name": "stdout",
     "output_type": "stream",
     "text": [
      "Solution: \n",
      "[[ 0.74572515]\n",
      " [ 0.46234505]\n",
      " [ 0.62539892]\n",
      " [-0.83459415]]\n",
      "\n",
      " Residuo:\n",
      " [[5.55111512e-17]\n",
      " [3.55271368e-15]\n",
      " [8.32667268e-15]\n",
      " [6.77236045e-15]]\n"
     ]
    }
   ],
   "source": [
    "import numpy as np\n",
    "#import libreria as lib\n",
    "A=np.random.rand(4,4)\n",
    "#print(A)\n",
    "b=np.random.rand(4,1)\n",
    "#print(b)\n",
    "sol=Gausselimsimple(A,b)\n",
    "print(\"Solution: \")\n",
    "print(sol)\n",
    "residuo=A@sol-b\n",
    "print(\"\\n Residuo:\\n\", residuo)\n",
    "\n"
   ]
  },
  {
   "cell_type": "code",
   "execution_count": 16,
   "id": "8cd8d0ce",
   "metadata": {},
   "outputs": [
    {
     "name": "stdout",
     "output_type": "stream",
     "text": [
      "Elapsed time: 0.0009 seconds\n",
      "Solution: \n",
      "[[ 0.26472649]\n",
      " [ 0.53588647]\n",
      " [ 2.21196875]\n",
      " [-2.15616749]\n",
      " [-1.090557  ]\n",
      " [ 2.43249876]\n",
      " [-0.15996568]\n",
      " [-1.0990051 ]\n",
      " [ 2.41728099]\n",
      " [-0.14751694]\n",
      " [-1.56096505]\n",
      " [-0.33453648]\n",
      " [ 0.16156848]]\n",
      "\n",
      " Residuo:\n",
      " [[ 0.00000000e+00]\n",
      " [-2.66453526e-15]\n",
      " [-2.22044605e-15]\n",
      " [-2.88657986e-15]\n",
      " [-6.10622664e-15]\n",
      " [ 1.44328993e-15]\n",
      " [-1.50157664e-14]\n",
      " [-6.82787160e-15]\n",
      " [ 4.44089210e-16]\n",
      " [-1.48214774e-14]\n",
      " [-5.66213743e-15]\n",
      " [ 4.55191440e-15]\n",
      " [ 3.05311332e-15]]\n"
     ]
    }
   ],
   "source": [
    "import numpy as np\n",
    "import time\n",
    "#import libreria as lib\n",
    "n=13\n",
    "A=np.random.rand(n,n)\n",
    "#print(A)\n",
    "b=np.random.rand(n,1)\n",
    "#print(b)\n",
    "\n",
    "start_time=time.perf_counter()\n",
    "sol=Gausselimsimple(A,b)\n",
    "end_time=time.perf_counter()\n",
    "elapsed_time=end_time-start_time\n",
    "print(f\"Elapsed time: {elapsed_time:.4f} seconds\")\n",
    "\n",
    "print(\"Solution: \")\n",
    "print(sol)\n",
    "residuo=A@sol-b\n",
    "print(\"\\n Residuo:\\n\", residuo)"
   ]
  },
  {
   "cell_type": "code",
   "execution_count": null,
   "id": "dd4a60ef",
   "metadata": {},
   "outputs": [],
   "source": []
  }
 ],
 "metadata": {
  "kernelspec": {
   "display_name": "Python 3",
   "language": "python",
   "name": "python3"
  },
  "language_info": {
   "codemirror_mode": {
    "name": "ipython",
    "version": 3
   },
   "file_extension": ".py",
   "mimetype": "text/x-python",
   "name": "python",
   "nbconvert_exporter": "python",
   "pygments_lexer": "ipython3",
   "version": "3.13.9"
  }
 },
 "nbformat": 4,
 "nbformat_minor": 5
}
