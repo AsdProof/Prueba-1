{
 "cells": [
  {
   "cell_type": "code",
   "execution_count": 1,
   "id": "206563f9",
   "metadata": {},
   "outputs": [],
   "source": [
    "import numpy as np"
   ]
  },
  {
   "cell_type": "code",
   "execution_count": 2,
   "id": "45e828af",
   "metadata": {},
   "outputs": [],
   "source": [
    "def operacionFila(A,fil_m,fil_piv,factor):\n",
    "    A[fil_m,:]=A[fil_m,:]-factor*A[fil_piv,:]"
   ]
  },
  {
   "cell_type": "code",
   "execution_count": 3,
   "id": "956d6152",
   "metadata": {},
   "outputs": [],
   "source": [
    "def escalonaSimple(A):\n",
    "    nfil=A.shape[0]\n",
    "    ncol=A.shape[1]\n",
    "\n",
    "    for j in range(0,nfil):\n",
    "        for i in range(j+1,nfil):\n",
    "            factor=A[i,j]/A[j,j]\n",
    "            operacionFila(A,i,j,factor)"
   ]
  },
  {
   "cell_type": "code",
   "execution_count": 6,
   "id": "0a82fc5a",
   "metadata": {},
   "outputs": [
    {
     "name": "stdout",
     "output_type": "stream",
     "text": [
      "[[ 2  3 -1]\n",
      " [ 0  5  4]\n",
      " [ 0  0  6]]\n",
      "[-7  2 18]\n"
     ]
    }
   ],
   "source": [
    "A = np.array([[2,3,-1],\n",
    "              [0,5,4],\n",
    "              [0,0,6]])\n",
    "b = np.array([-7,2,18])\n",
    "\n",
    "#x = np.linalg.solve(A,b)\n",
    "#print(x)\n",
    "\n",
    "print(A)\n",
    "print(b)"
   ]
  },
  {
   "cell_type": "code",
   "execution_count": 5,
   "id": "0afc5496",
   "metadata": {},
   "outputs": [],
   "source": [
    "def sustRegresiva(A,b):     #Resuelve un sistema escalonado\n",
    "    N=b.shape[0]   #A y b deben ser array numpy bidimensional\n",
    "    x=np.zeros((N,1))\n",
    "    for i in range(N-1,-1,-1):\n",
    "        x[i,0]=(b[i,0]-np.dot(A[i,i+1:N],x[i+1:N,0]))/A[i,i]    \n",
    "    return x #arra bidimensional\n"
   ]
  },
  {
   "cell_type": "code",
   "execution_count": 4,
   "id": "9a632fa3",
   "metadata": {},
   "outputs": [],
   "source": [
    "def Gausselimsimple(A,b):\n",
    "    Ab=np.append(A,b,axis=1)\n",
    "    escalonaSimple(Ab)\n",
    "    A1=Ab[:,0:Ab.shape[1]-1].copy()\n",
    "    b1=Ab[:,Ab.shape[1]-1].copy()\n",
    "    b1=b1.reshape(b.shape[0],1)\n",
    "    x=sustRegresiva(A1,b1)\n",
    "    return x #array bidimensional"
   ]
  },
  {
   "cell_type": "code",
   "execution_count": 11,
   "id": "de629c7e",
   "metadata": {},
   "outputs": [],
   "source": [
    "def intercambiFilas(A,fil_i,fil_j):\n",
    "    A[[fil_i,fil_j],:]=A[[fil_j,fil_i],:]"
   ]
  },
  {
   "cell_type": "code",
   "execution_count": 12,
   "id": "8c82a845",
   "metadata": {},
   "outputs": [],
   "source": [
    "def escalonaWithPiv(A):\n",
    "    nfil=A.shape[0]\n",
    "    ncol=A.shape[1]\n",
    "\n",
    "    for j in range(0,nfil):\n",
    "        imax=np.argmax(np.abs(A[j:nfil,j]))\n",
    "        intercambiFilas(A,j+imax,j)\n",
    "        for i in range(j+1,nfil):\n",
    "            factor=A[i,j]/A[j,j]\n",
    "            operacionFila(A,i,j,factor)"
   ]
  },
  {
   "cell_type": "code",
   "execution_count": null,
   "id": "2f51478b",
   "metadata": {},
   "outputs": [],
   "source": [
    "def GaussElimwithpiv(A,b):\n",
    "    Ab=np.append(A,b,axis=1)\n",
    "    escalonaWithPiv(Ab)\n",
    "    A1=Ab[:,0:Ab.shape[1]-1].copy()\n",
    "    b1=Ab[:,Ab.shape[1]-1].copy()\n",
    "    b1=b1.reshape(b.shape[0],1)\n",
    "    x=sustRegresiva("
   ]
  },
  {
   "cell_type": "code",
   "execution_count": 7,
   "id": "ac3a133e",
   "metadata": {},
   "outputs": [
    {
     "name": "stdout",
     "output_type": "stream",
     "text": [
      "Solution: \n",
      "[[ 2.89136823]\n",
      " [ 2.56579975]\n",
      " [-6.27948554]\n",
      " [ 0.10026426]]\n",
      "\n",
      " Residuo:\n",
      " [[4.44089210e-16]\n",
      " [0.00000000e+00]\n",
      " [3.33066907e-16]\n",
      " [1.11022302e-15]]\n"
     ]
    }
   ],
   "source": [
    "import numpy as np\n",
    "#import libreria as lib\n",
    "A=np.random.rand(4,4)\n",
    "#print(A)\n",
    "b=np.random.rand(4,1)\n",
    "#print(b)\n",
    "sol=Gausselimsimple(A,b)\n",
    "print(\"Solution: \")\n",
    "print(sol)\n",
    "residuo=A@sol-b\n",
    "print(\"\\n Residuo:\\n\", residuo)\n"
   ]
  },
  {
   "cell_type": "code",
   "execution_count": 9,
   "id": "8cd8d0ce",
   "metadata": {},
   "outputs": [
    {
     "name": "stdout",
     "output_type": "stream",
     "text": [
      "Elapsed time: 0.0010 seconds\n",
      "Solution: \n",
      "[[-0.23148186]\n",
      " [ 0.44029287]\n",
      " [ 0.48768116]\n",
      " [ 0.30113042]\n",
      " [-0.57332549]\n",
      " [-1.89052539]\n",
      " [ 0.62840581]\n",
      " [ 1.18529283]\n",
      " [ 0.56179551]\n",
      " [ 0.10446376]\n",
      " [-0.34591334]\n",
      " [ 0.60780523]\n",
      " [-0.57001744]]\n",
      "\n",
      " Residuo:\n",
      " [[ 0.00000000e+00]\n",
      " [-3.33066907e-16]\n",
      " [ 6.66133815e-16]\n",
      " [ 6.66133815e-16]\n",
      " [-1.66533454e-15]\n",
      " [ 1.33226763e-15]\n",
      " [-2.10942375e-15]\n",
      " [-3.33066907e-16]\n",
      " [-5.55111512e-16]\n",
      " [-1.22124533e-15]\n",
      " [ 1.55431223e-15]\n",
      " [-1.66533454e-15]\n",
      " [ 9.99200722e-16]]\n"
     ]
    }
   ],
   "source": [
    "import numpy as np\n",
    "import time\n",
    "#import libreria as lib\n",
    "n=13\n",
    "A=np.random.rand(n,n)\n",
    "#print(A)\n",
    "b=np.random.rand(n,1)\n",
    "#print(b)\n",
    "\n",
    "start_time=time.perf_counter()\n",
    "sol=Gausselimsimple(A,b)\n",
    "end_time=time.perf_counter()\n",
    "elapsed_time=end_time-start_time\n",
    "print(f\"Elapsed time: {elapsed_time:.4f} seconds\")\n",
    "\n",
    "print(\"Solution: \")\n",
    "print(sol)\n",
    "residuo=A@sol-b\n",
    "print(\"\\n Residuo:\\n\", residuo)"
   ]
  },
  {
   "cell_type": "code",
   "execution_count": null,
   "id": "dd4a60ef",
   "metadata": {},
   "outputs": [],
   "source": [
    "n=180\n",
    "A=np.random.rand(n,n)\n",
    "b=np.random.rand(n,1)\n",
    "\n",
    "X=GaussFilaSimple(A,b)\n",
    "normErr1=np.linalg.norm(A@X-b,1)\n",
    "\n",
    "X=Gausselimsimple(A,b)\n",
    "normErr2=np.linalg.norm(A@X-b,1)"
   ]
  }
 ],
 "metadata": {
  "kernelspec": {
   "display_name": "Python 3",
   "language": "python",
   "name": "python3"
  },
  "language_info": {
   "codemirror_mode": {
    "name": "ipython",
    "version": 3
   },
   "file_extension": ".py",
   "mimetype": "text/x-python",
   "name": "python",
   "nbconvert_exporter": "python",
   "pygments_lexer": "ipython3",
   "version": "3.13.9"
  }
 },
 "nbformat": 4,
 "nbformat_minor": 5
}
