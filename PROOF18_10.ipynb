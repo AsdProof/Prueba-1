{
 "cells": [
  {
   "cell_type": "code",
   "execution_count": 1,
   "id": "206563f9",
   "metadata": {},
   "outputs": [],
   "source": [
    "import numpy as np"
   ]
  },
  {
   "cell_type": "code",
   "execution_count": 2,
   "id": "45e828af",
   "metadata": {},
   "outputs": [],
   "source": [
    "def operacionFila(A,fil_m,fil_piv,factor):\n",
    "    A[fil_m,:]=A[fil_m,:]-factor*A[fil_piv,:]"
   ]
  },
  {
   "cell_type": "code",
   "execution_count": 3,
   "id": "956d6152",
   "metadata": {},
   "outputs": [],
   "source": [
    "def escalonaSimple(A):\n",
    "    nfil=A.shape[0]\n",
    "    ncol=A.shape[1]\n",
    "\n",
    "    for j in range(0,nfil):\n",
    "        for i in range(j+1,nfil):\n",
    "            factor=A[i,j]/A[j,j]\n",
    "            operacionFila(A,i,j,factor)"
   ]
  },
  {
   "cell_type": "code",
   "execution_count": 4,
   "id": "0a82fc5a",
   "metadata": {},
   "outputs": [
    {
     "name": "stdout",
     "output_type": "stream",
     "text": [
      "[[ 2  3 -1]\n",
      " [ 0  5  4]\n",
      " [ 0  0  6]]\n",
      "[-7  2 18]\n"
     ]
    }
   ],
   "source": [
    "A = np.array([[2,3,-1],\n",
    "              [0,5,4],\n",
    "              [0,0,6]])\n",
    "b = np.array([-7,2,18])\n",
    "\n",
    "#x = np.linalg.solve(A,b)\n",
    "#print(x)\n",
    "\n",
    "print(A)\n",
    "print(b)"
   ]
  },
  {
   "cell_type": "code",
   "execution_count": 5,
   "id": "0afc5496",
   "metadata": {},
   "outputs": [],
   "source": [
    "def sustRegresiva(A,b):     #Resuelve un sistema escalonado\n",
    "    N=b.shape[0]   #A y b deben ser array numpy bidimensional\n",
    "    x=np.zeros((N,1))\n",
    "    for i in range(N-1,-1,-1):\n",
    "        x[i,0]=(b[i,0]-np.dot(A[i,i+1:N],x[i+1:N,0]))/A[i,i]    \n",
    "    return x #arra bidimensional\n"
   ]
  },
  {
   "cell_type": "code",
   "execution_count": 6,
   "id": "9a632fa3",
   "metadata": {},
   "outputs": [],
   "source": [
    "def Gausselimsimple(A,b):\n",
    "    Ab=np.append(A,b,axis=1)\n",
    "    escalonaSimple(Ab)\n",
    "    A1=Ab[:,0:Ab.shape[1]-1].copy()\n",
    "    b1=Ab[:,Ab.shape[1]-1].copy()\n",
    "    b1=b1.reshape(b.shape[0],1)\n",
    "    x=sustRegresiva(A1,b1)\n",
    "    return x #array bidimensional"
   ]
  },
  {
   "cell_type": "code",
   "execution_count": null,
   "id": "2f51478b",
   "metadata": {},
   "outputs": [],
   "source": []
  },
  {
   "cell_type": "code",
   "execution_count": 7,
   "id": "ac3a133e",
   "metadata": {},
   "outputs": [
    {
     "name": "stdout",
     "output_type": "stream",
     "text": [
      "Solution: \n",
      "[[-4.07047481]\n",
      " [ 5.8129439 ]\n",
      " [ 6.09152462]\n",
      " [-7.55831557]]\n",
      "\n",
      " Residuo:\n",
      " [[-3.33066907e-16]\n",
      " [-1.11022302e-15]\n",
      " [-9.65894031e-15]\n",
      " [-1.33226763e-15]]\n"
     ]
    }
   ],
   "source": [
    "import numpy as np\n",
    "#import libreria as lib\n",
    "A=np.random.rand(4,4)\n",
    "#print(A)\n",
    "b=np.random.rand(4,1)\n",
    "#print(b)\n",
    "sol=Gausselimsimple(A,b)\n",
    "print(\"Solution: \")\n",
    "print(sol)\n",
    "residuo=A@sol-b\n",
    "print(\"\\n Residuo:\\n\", residuo)\n",
    "\n"
   ]
  },
  {
   "cell_type": "code",
   "execution_count": null,
   "id": "8cd8d0ce",
   "metadata": {},
   "outputs": [
    {
     "name": "stdout",
     "output_type": "stream",
     "text": [
      "Solution: \n",
      "[[-0.24619411]\n",
      " [ 0.64419582]\n",
      " [-1.63391457]\n",
      " [ 1.41710104]\n",
      " [ 1.12517142]\n",
      " [ 0.66699892]\n",
      " [-1.00375065]\n",
      " [ 0.27421056]\n",
      " [-0.69058948]\n",
      " [-1.72059837]\n",
      " [-0.11261286]\n",
      " [ 2.02328438]\n",
      " [ 1.62069445]]\n",
      "\n",
      " Residuo:\n",
      " [[ 0.00000000e+00]\n",
      " [-8.67361738e-17]\n",
      " [ 2.22044605e-16]\n",
      " [ 3.88578059e-16]\n",
      " [-3.60822483e-16]\n",
      " [ 0.00000000e+00]\n",
      " [-2.66453526e-15]\n",
      " [ 6.66133815e-16]\n",
      " [ 8.88178420e-16]\n",
      " [-1.33226763e-15]\n",
      " [-1.11022302e-15]\n",
      " [ 2.22044605e-16]\n",
      " [-2.42861287e-15]]\n"
     ]
    }
   ],
   "source": [
    "import numpy as np\n",
    "import time\n",
    "#import libreria as lib\n",
    "n=13\n",
    "A=np.random.rand(n,n)\n",
    "#print(A)\n",
    "b=np.random.rand(n,1)\n",
    "#print(b)\n",
    "\n",
    "start_time=time\n",
    "sol=Gausselimsimple(A,b)\n",
    "print(\"Solution: \")\n",
    "print(sol)\n",
    "residuo=A@sol-b\n",
    "print(\"\\n Residuo:\\n\", residuo)"
   ]
  }
 ],
 "metadata": {
  "kernelspec": {
   "display_name": "Python 3",
   "language": "python",
   "name": "python3"
  },
  "language_info": {
   "codemirror_mode": {
    "name": "ipython",
    "version": 3
   },
   "file_extension": ".py",
   "mimetype": "text/x-python",
   "name": "python",
   "nbconvert_exporter": "python",
   "pygments_lexer": "ipython3",
   "version": "3.13.9"
  }
 },
 "nbformat": 4,
 "nbformat_minor": 5
}
